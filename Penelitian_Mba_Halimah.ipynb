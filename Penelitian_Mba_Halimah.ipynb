{
  "nbformat": 4,
  "nbformat_minor": 0,
  "metadata": {
    "colab": {
      "provenance": [],
      "authorship_tag": "ABX9TyMR8oGJIfL6cwdGBro4y/za",
      "include_colab_link": true
    },
    "kernelspec": {
      "name": "python3",
      "display_name": "Python 3"
    },
    "language_info": {
      "name": "python"
    }
  },
  "cells": [
    {
      "cell_type": "markdown",
      "metadata": {
        "id": "view-in-github",
        "colab_type": "text"
      },
      "source": [
        "<a href=\"https://colab.research.google.com/github/hcalldee/Penelitian_bidan_halimah/blob/main/Penelitian_Mba_Halimah.ipynb\" target=\"_parent\"><img src=\"https://colab.research.google.com/assets/colab-badge.svg\" alt=\"Open In Colab\"/></a>"
      ]
    },
    {
      "cell_type": "code",
      "source": [
        "# !pip install researchpy\n",
        "import math\n",
        "import pandas as pd\n",
        "import numpy as np\n",
        "import researchpy as rp\n",
        "from scipy.stats import shapiro \n",
        "from scipy.stats import lognorm\n",
        "from scipy.stats import kstest\n",
        "import statsmodels.api as sm\n",
        "import matplotlib.pyplot as plt\n",
        "import scipy.stats as stats"
      ],
      "metadata": {
        "id": "QC5calH6LOkl"
      },
      "execution_count": 113,
      "outputs": []
    },
    {
      "cell_type": "code",
      "execution_count": 120,
      "metadata": {
        "id": "plZGRaNMB4sd"
      },
      "outputs": [],
      "source": [
        "url = 'https://raw.githubusercontent.com/hcalldee/Penelitian_bidan_halimah/main/dataset_mbahalimah.csv'\n",
        "dataset = pd.read_csv(url,sep=',')\n",
        "df = dataset.iloc[:,1:9]"
      ]
    },
    {
      "cell_type": "code",
      "source": [
        "# # pakai salah satu\n",
        "# # normalisasi data logaritmik\n",
        "# df['nilai pretest'] = np.log10(df['nilai pretest'])\n",
        "# df['nilai Postest'] = np.log10(df['nilai Postest'])\n",
        "\n",
        "# # normalisasi data squareroot\n",
        "# df['nilai pretest'] = np.sqrt(df['nilai pretest'])\n",
        "# df['nilai Postest'] = np.sqrt(df['nilai Postest'])"
      ],
      "metadata": {
        "id": "AMRIKW0SVEg6"
      },
      "execution_count": 121,
      "outputs": []
    },
    {
      "cell_type": "code",
      "source": [
        "# frekuensi = pd.dataFrame()\n",
        "frek = []\n",
        "df.columns\n",
        "n=0\n",
        "\n",
        "\n",
        "\n",
        "\n",
        "print(\"Q-Q plot nilai pretest \\n\")\n",
        "fig = sm.qqplot(df.iloc[:,6], line='45')\n",
        "plt.show()\n",
        "print('\\n')\n",
        "\n",
        "print(\"Q-Q plot nilai posttest \\n\")\n",
        "fig = sm.qqplot(df.iloc[:,7], line='45')\n",
        "plt.show()\n",
        "print('\\n')\n",
        "\n",
        "print(\"DESKRIPSI STATISTIK \\n\")\n",
        "print(df.describe())\n",
        "print('\\n')\n",
        "\n",
        "print('Uji Normality Saphiro\\n')\n",
        "if(shapiro(df.iloc[:,6])[1]>0.05):\n",
        "  print(str(df.columns[6])+' terdistribusi Normal dengan nilai '+str(shapiro(df.iloc[:,6])[1])+'\\n')\n",
        "elif(shapiro(df.iloc[:,6])[1]<0.05):\n",
        "  print(str(df.columns[6])+' tidak terdistribusi Normal dengan nilai '+str(shapiro(df.iloc[:,6])[1])+'\\n')\n",
        "\n",
        "if(shapiro(df.iloc[:,7])[1]>0.05):\n",
        "  print(str(df.columns[7])+' terdistribusi Normal dengan nilai '+str(shapiro(df.iloc[:,7])[1])+'\\n')\n",
        "elif(shapiro(df.iloc[:,7])[1]<0.05):\n",
        "  print(str(df.columns[7])+' tidak terdistribusi Normal '+str(shapiro(df.iloc[:,7])[1])+'\\n')\n",
        "\n",
        "print('Uji Normality Kolmogorov-Smirnov\\n')\n",
        "if(kstest(df.iloc[:,6],'norm')[1]>0.05):\n",
        "  print(str(df.columns[6])+' terdistribusi Normal dengan nilai '+str(kstest(df.iloc[:,6],'norm')[1])+'\\n')\n",
        "elif(kstest(df.iloc[:,6],'norm')[1]<0.05):\n",
        "  print(str(df.columns[6])+' tidak terdistribusi Normal dengan nilai '+str(kstest(df.iloc[:,6],'norm')[1])+'\\n')\n",
        "\n",
        "if(kstest(df.iloc[:,7],'norm')[1]>0.05):\n",
        "  print(str(df.columns[7])+' terdistribusi Normal dengan nilai '+str(kstest(df.iloc[:,7],'norm')[1])+'\\n')\n",
        "elif(kstest(df.iloc[:,7],'norm')[1]<0.05):\n",
        "  print(str(df.columns[7])+' tidak terdistribusi Normal '+str(kstest(df.iloc[:,7],'norm')[1])+'\\n')\n",
        "\n",
        "print('\\nUji T-Test Paired Variable\\n')\n",
        "hasil = stats.ttest_ind(a=df.iloc[:,6], b=df.iloc[:,7], equal_var=True)\n",
        "if(hasil[0]==hasil[1]):\n",
        "  print('population mean of hasil pretest is equal to hasil postest')\n",
        "  print('pretest value : '+str(hasil[0])+' postest value : '+str(hasil[1]))\n",
        "elif(hasil[0]!=hasil[1]):\n",
        "  print('population mean of hasil pretest isn\\'t equal to hasil postest')\n",
        "  print('pretest value : '+str(hasil[0])+' postest value : '+str(hasil[1]))\n",
        "print('\\n')\n",
        "\n",
        "print('Uji T-Test Independent Variable\\n')\n",
        "hasil = rp.ttest(group1= df.iloc[:,6], group1_name= \"nilai pretest\",\n",
        "         group2= df.iloc[:,7], group2_name= \"nilai postest\")\n",
        "print(hasil)\n",
        "print('\\n')\n",
        "\n",
        "print(\"\\nFREKUENSI\\n\")\n",
        "for i in df.columns:\n",
        "  if(i != \"INISIAL \"):\n",
        "    frek.append(df[i].value_counts())\n",
        "\n",
        "for dat in frek:\n",
        "  print(pd.DataFrame(dat).T)\n",
        "  print('\\n')"
      ],
      "metadata": {
        "colab": {
          "base_uri": "https://localhost:8080/",
          "height": 1000
        },
        "id": "NrZZ0-HyF5Hq",
        "outputId": "b3db04e0-9364-4434-bfd4-6a507f40d626"
      },
      "execution_count": 122,
      "outputs": [
        {
          "output_type": "stream",
          "name": "stdout",
          "text": [
            "Q-Q plot nilai pretest \n",
            "\n"
          ]
        },
        {
          "output_type": "display_data",
          "data": {
            "text/plain": [
              "<Figure size 432x288 with 1 Axes>"
            ],
            "image/png": "[encoded data removed]"
          },
          "metadata": {
            "needs_background": "light"
          }
        },
        {
          "output_type": "stream",
          "name": "stdout",
          "text": [
            "\n",
            "\n",
            "Q-Q plot nilai posttest \n",
            "\n"
          ]
        },
        {
          "output_type": "display_data",
          "data": {
            "text/plain": [
              "<Figure size 432x288 with 1 Axes>"
            ],
            "image/png": "[encoded data removed]"
          },
          "metadata": {
            "needs_background": "light"
          }
        },
        {
          "output_type": "stream",
          "name": "stdout",
          "text": [
            "\n",
            "\n",
            "DESKRIPSI STATISTIK \n",
            "\n",
            "            UMUR         UK    PARITAS  nilai pretest  nilai Postest\n",
            "count  36.000000  36.000000  36.000000      36.000000      36.000000\n",
            "mean   28.250000  27.388889   1.805556       4.759649       4.287617\n",
            "std     4.245165   5.426274   0.888641       0.519527       0.345927\n",
            "min    22.000000  18.000000   1.000000       3.605551       3.605551\n",
            "25%    25.750000  23.000000   1.000000       4.526657       4.123106\n",
            "50%    27.500000  27.500000   2.000000       4.795832       4.242641\n",
            "75%    31.000000  30.500000   2.000000       5.024755       4.499746\n",
            "max    42.000000  38.000000   4.000000       5.830952       5.099020\n",
            "\n",
            "\n",
            "Uji Normality Saphiro\n",
            "\n",
            "nilai pretest terdistribusi Normal dengan nilai 0.6287355422973633\n",
            "\n",
            "nilai Postest terdistribusi Normal dengan nilai 0.5212974548339844\n",
            "\n",
            "Uji Normality Kolmogorov-Smirnov\n",
            "\n",
            "nilai pretest tidak terdistribusi Normal dengan nilai 1.6903906930927444e-137\n",
            "\n",
            "nilai Postest tidak terdistribusi Normal 1.6903906930927444e-137\n",
            "\n",
            "\n",
            "Uji T-Test Paired Variable\n",
            "\n",
            "population mean of hasil pretest isn't equal to hasil postest\n",
            "pretest value : 4.537615719841881 postest value : 2.2994285864610944e-05\n",
            "\n",
            "\n",
            "Uji T-Test Independent Variable\n",
            "\n",
            "(        Variable     N      Mean        SD        SE  95% Conf.  Interval\n",
            "0  nilai pretest  36.0  4.759649  0.519527  0.086588   4.583866  4.935431\n",
            "1  nilai postest  36.0  4.287617  0.345927  0.057655   4.170572  4.404662\n",
            "2       combined  72.0  4.523633  0.498529  0.058752   4.406484  4.640781,                               Independent t-test  results\n",
            "0  Difference (nilai pretest - nilai postest) =    0.4720\n",
            "1                          Degrees of freedom =   70.0000\n",
            "2                                           t =    4.5376\n",
            "3                       Two side test p value =    0.0000\n",
            "4                      Difference < 0 p value =    1.0000\n",
            "5                      Difference > 0 p value =    0.0000\n",
            "6                                   Cohen's d =    1.0695\n",
            "7                                   Hedge's g =    1.0580\n",
            "8                              Glass's delta1 =    0.9086\n",
            "9                            Point-Biserial r =    0.4767)\n",
            "\n",
            "\n",
            "\n",
            "FREKUENSI\n",
            "\n",
            "      26  27  31  23  28  30  25  32  22  33  24  34  29  42  35\n",
            "UMUR   5   4   4   3   3   3   2   2   2   2   2   1   1   1   1\n",
            "\n",
            "\n",
            "    29  20  28  34  24  23  32  26  21  38  30  22  27  25  36  35  18\n",
            "UK   4   3   3   3   3   2   2   2   2   2   2   2   2   1   1   1   1\n",
            "\n",
            "\n",
            "          1   2  3  4\n",
            "PARITAS  16  13  5  2\n",
            "\n",
            "\n",
            "            S1  SMA  D3  SMK  SMP  PESANTREN  DIPLOMA\n",
            "PENDIDIKAN  19    8   3    2    2          1        1\n",
            "\n",
            "\n",
            "           IRT  GURU  SWASTA  WIRASWASTA  PERAWAT  PNS  KARY SWASTA  \\\n",
            "PEKERJAAN   15     7       4           2        2    2            2   \n",
            "\n",
            "           KARY BUMN  Kary BUMD  \n",
            "PEKERJAAN          1          1  \n",
            "\n",
            "\n",
            "               4.795832  4.582576  4.898979  4.242641  4.690416  5.099020  \\\n",
            "nilai pretest         6         5         3         3         3         2   \n",
            "\n",
            "               4.358899  5.567764  5.000000  5.477226  5.385165  5.291503  \\\n",
            "nilai pretest         2         2         1         1         1         1   \n",
            "\n",
            "               5.830952  3.605551  5.656854  4.123106  4.000000  3.741657  \n",
            "nilai pretest         1         1         1         1         1         1  \n",
            "\n",
            "\n",
            "               4.242641  4.358899  3.741657  4.582576  4.123106  4.472136  \\\n",
            "nilai Postest         7         5         4         4         4         3   \n",
            "\n",
            "               4.795832  4.000000  3.872983  5.099020  3.605551  4.690416  \n",
            "nilai Postest         3         2         1         1         1         1  \n",
            "\n",
            "\n"
          ]
        }
      ]
    }
  ]
}