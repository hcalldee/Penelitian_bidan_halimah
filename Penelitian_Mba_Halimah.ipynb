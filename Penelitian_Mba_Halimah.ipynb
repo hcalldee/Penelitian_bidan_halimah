{
  "nbformat": 4,
  "nbformat_minor": 0,
  "metadata": {
    "colab": {
      "provenance": [],
      "authorship_tag": "ABX9TyNwZQ0JWJCljDJtLVBdWd7W",
      "include_colab_link": true
    },
    "kernelspec": {
      "name": "python3",
      "display_name": "Python 3"
    },
    "language_info": {
      "name": "python"
    }
  },
  "cells": [
    {
      "cell_type": "markdown",
      "metadata": {
        "id": "view-in-github",
        "colab_type": "text"
      },
      "source": [
        "<a href=\"https://colab.research.google.com/github/hcalldee/Penelitian_bidan_halimah/blob/main/Penelitian_Mba_Halimah.ipynb\" target=\"_parent\"><img src=\"https://colab.research.google.com/assets/colab-badge.svg\" alt=\"Open In Colab\"/></a>"
      ]
    },
    {
      "cell_type": "code",
      "execution_count": null,
      "metadata": {
        "id": "plZGRaNMB4sd"
      },
      "outputs": [],
      "source": [
        "import pandas as pd\n",
        "import numpy as np\n",
        "\n",
        "url = 'https://raw.githubusercontent.com/hcalldee/Penelitian_bidan_halimah/main/dataset_mbahalimah.csv'\n",
        "dataset = pd.read_csv(url,sep=',')\n",
        "df = dataset.iloc[:,1:9]"
      ]
    },
    {
      "cell_type": "code",
      "source": [
        "df.head"
      ],
      "metadata": {
        "id": "iLmw-oPyFw-Z"
      },
      "execution_count": null,
      "outputs": []
    },
    {
      "cell_type": "code",
      "source": [
        "# frekuensi = pd.dataFrame()\n",
        "frek = []\n",
        "df.columns\n",
        "n=0\n",
        "\n",
        "print(\"DESKRIPSI STATISTIK \\n\")\n",
        "print(df.describe())\n",
        "\n",
        "print(\"\\nFREKUENSI\\n\")\n",
        "for i in df.columns:\n",
        "  if(i != \"INISIAL \"):\n",
        "    frek.append(df[i].value_counts())\n",
        "\n",
        "for dat in frek:\n",
        "  print(pd.DataFrame(dat).T)\n",
        "  print('\\n')"
      ],
      "metadata": {
        "colab": {
          "base_uri": "https://localhost:8080/"
        },
        "id": "NrZZ0-HyF5Hq",
        "outputId": "6bda7649-f286-44bb-84e7-8f6b5a688e5b"
      },
      "execution_count": 65,
      "outputs": [
        {
          "output_type": "stream",
          "name": "stdout",
          "text": [
            "DESKRIPSI STATISTIK \n",
            "\n",
            "            UMUR         UK    PARITAS  nilai pretest  nilai Postest\n",
            "count  36.000000  36.000000  36.000000      36.000000      36.000000\n",
            "mean   28.250000  27.388889   1.805556      22.916667      18.500000\n",
            "std     4.245165   5.426274   0.888641       4.959119       2.971291\n",
            "min    22.000000  18.000000   1.000000      13.000000      13.000000\n",
            "25%    25.750000  23.000000   1.000000      20.500000      17.000000\n",
            "50%    27.500000  27.500000   2.000000      23.000000      18.000000\n",
            "75%    31.000000  30.500000   2.000000      25.250000      20.250000\n",
            "max    42.000000  38.000000   4.000000      34.000000      26.000000\n",
            "\n",
            "FREKUENSI\n",
            "\n",
            "      26  27  31  23  28  30  25  32  22  33  24  34  29  42  35\n",
            "UMUR   5   4   4   3   3   3   2   2   2   2   2   1   1   1   1\n",
            "\n",
            "\n",
            "    29  20  28  34  24  23  32  26  21  38  30  22  27  25  36  35  18\n",
            "UK   4   3   3   3   3   2   2   2   2   2   2   2   2   1   1   1   1\n",
            "\n",
            "\n",
            "          1   2  3  4\n",
            "PARITAS  16  13  5  2\n",
            "\n",
            "\n",
            "            S1  SMA  D3  SMK  SMP  PESANTREN  DIPLOMA\n",
            "PENDIDIKAN  19    8   3    2    2          1        1\n",
            "\n",
            "\n",
            "           IRT  GURU  SWASTA  WIRASWASTA  PERAWAT  PNS  KARY SWASTA  \\\n",
            "PEKERJAAN   15     7       4           2        2    2            2   \n",
            "\n",
            "           KARY BUMN  Kary BUMD  \n",
            "PEKERJAAN          1          1  \n",
            "\n",
            "\n",
            "               23  21  24  18  22  26  19  31  25  30  29  28  34  13  32  17  \\\n",
            "nilai pretest   6   5   3   3   3   2   2   2   1   1   1   1   1   1   1   1   \n",
            "\n",
            "               16  14  \n",
            "nilai pretest   1   1  \n",
            "\n",
            "\n",
            "               18  19  14  21  17  20  23  16  15  26  13  22\n",
            "nilai Postest   7   5   4   4   4   3   3   2   1   1   1   1\n",
            "\n",
            "\n"
          ]
        }
      ]
    },
    {
      "cell_type": "code",
      "source": [],
      "metadata": {
        "id": "oqPItrHPKB0p"
      },
      "execution_count": null,
      "outputs": []
    }
  ]
}